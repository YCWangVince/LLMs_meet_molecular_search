{
 "cells": [
  {
   "cell_type": "code",
   "execution_count": 4,
   "id": "201fc67e-9369-4042-8bba-fe3837991e0d",
   "metadata": {},
   "outputs": [
    {
     "name": "stdout",
     "output_type": "stream",
     "text": [
      "Mol Weight: 119.16699999999997\n"
     ]
    }
   ],
   "source": [
    "from rdkit import Chem\n",
    "from rdkit.Chem import Descriptors\n",
    "\n",
    "def smiles_to_mol_weight(smiles):\n",
    "    # Create a molecule object from the SMILES string\n",
    "    mol = Chem.MolFromSmiles(smiles)\n",
    "    if not mol:\n",
    "        return \"Invalid SMILES string\"\n",
    "    \n",
    "    # Calculate the molecular weight\n",
    "    mol_weight = Descriptors.MolWt(mol)\n",
    "    return mol_weight\n",
    "\n",
    "# Example usage\n",
    "smiles_string = \"C1CC2=CC=CC=C2N1\" \n",
    "mol_weight = smiles_to_mol_weight(smiles_string)\n",
    "print(\"Mol Weight:\", mol_weight)"
   ]
  },
  {
   "cell_type": "code",
   "execution_count": 7,
   "id": "c3fcf575-1cf5-41f1-b456-f5a8ce40ca5e",
   "metadata": {},
   "outputs": [],
   "source": [
    "import pandas as pd\n",
    "df = pd.read_csv('dataset/qm9.csv')"
   ]
  },
  {
   "cell_type": "code",
   "execution_count": 13,
   "id": "b3b239bd-97a2-4bd5-a324-6a89fc472eee",
   "metadata": {},
   "outputs": [
    {
     "name": "stderr",
     "output_type": "stream",
     "text": [
      "100%|████████████████████████████████| 130831/130831 [00:05<00:00, 23899.12it/s]\n"
     ]
    }
   ],
   "source": [
    "from tqdm import tqdm\n",
    "mol_weight_list = []\n",
    "for smiles in tqdm(df['SMILES'].values, total = len(df['SMILES'].values)):\n",
    "    mol_weight_list.append(smiles_to_mol_weight(smiles))"
   ]
  },
  {
   "cell_type": "code",
   "execution_count": 18,
   "id": "0b42fa14-7435-472e-b03f-b156a0376b26",
   "metadata": {},
   "outputs": [],
   "source": [
    "df['molecular weight'] = mol_weight_list"
   ]
  },
  {
   "cell_type": "code",
   "execution_count": 20,
   "id": "e087fcb6-bf45-4f60-867c-aca849daea11",
   "metadata": {},
   "outputs": [],
   "source": [
    "df.to_csv('dataset/qm9_with_mol.csv')"
   ]
  },
  {
   "cell_type": "code",
   "execution_count": null,
   "id": "560fdb53-414c-47d8-a739-253ca5369981",
   "metadata": {},
   "outputs": [],
   "source": []
  }
 ],
 "metadata": {
  "kernelspec": {
   "display_name": "Python 3 (ipykernel)",
   "language": "python",
   "name": "python3"
  },
  "language_info": {
   "codemirror_mode": {
    "name": "ipython",
    "version": 3
   },
   "file_extension": ".py",
   "mimetype": "text/x-python",
   "name": "python",
   "nbconvert_exporter": "python",
   "pygments_lexer": "ipython3",
   "version": "3.9.19"
  }
 },
 "nbformat": 4,
 "nbformat_minor": 5
}
