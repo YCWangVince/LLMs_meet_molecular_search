{
 "cells": [
  {
   "cell_type": "code",
   "execution_count": 19,
   "id": "04096d92-4b0f-45b0-a5f3-b914bfe55def",
   "metadata": {},
   "outputs": [],
   "source": [
    "import pandas as pd\n",
    "df = pd.read_csv('testset.csv')"
   ]
  },
  {
   "cell_type": "code",
   "execution_count": 20,
   "id": "688460fc-ece0-4c07-b310-e0fba46d69e9",
   "metadata": {},
   "outputs": [],
   "source": [
    "import json\n",
    "\n",
    "# Determine the columns for functional groups\n",
    "functional_group_columns = df.columns[df.columns.get_loc(\"Hydroxyl\"):df.columns.get_loc(\"Anhydride\")+1]\n",
    "\n",
    "# Function to process each row into the desired JSON format\n",
    "def process_row(row):\n",
    "    # Basic structure of the JSON object\n",
    "    json_item = {\n",
    "        \"SMILES\": row[\"SMILES\"],\n",
    "        \"molecular weight\": row[\"Molar Mass/Molecular Weight\"]\n",
    "    }\n",
    "\n",
    "    # Optional properties\n",
    "    properties = [\"Density\", \"Melting point\", \"Boiling point\", \"Solubility in water\", \"Vapor pressure\"]\n",
    "    for prop in properties:\n",
    "        if pd.notna(row[prop]):\n",
    "            json_item[prop.lower()] = row[prop]\n",
    "\n",
    "    # Functional groups\n",
    "    functional_groups = row[functional_group_columns]\n",
    "    if functional_groups.any():\n",
    "        json_item[\"functional group\"] = functional_groups.index[functional_groups].tolist()\n",
    "\n",
    "    return json_item\n",
    "\n",
    "# Convert each row in the DataFrame to JSON format and write to .jsonl file\n",
    "with open('testset.jsonl', 'w') as file:\n",
    "    for index, row in df.iterrows():\n",
    "        json_line = json.dumps(process_row(row))\n",
    "        file.write(json_line + '\\n')\n"
   ]
  }
 ],
 "metadata": {
  "kernelspec": {
   "display_name": "Python 3 (ipykernel)",
   "language": "python",
   "name": "python3"
  },
  "language_info": {
   "codemirror_mode": {
    "name": "ipython",
    "version": 3
   },
   "file_extension": ".py",
   "mimetype": "text/x-python",
   "name": "python",
   "nbconvert_exporter": "python",
   "pygments_lexer": "ipython3",
   "version": "3.9.19"
  }
 },
 "nbformat": 4,
 "nbformat_minor": 5
}
