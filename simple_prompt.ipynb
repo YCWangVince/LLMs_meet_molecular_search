{
 "cells": [
  {
   "cell_type": "code",
   "execution_count": 5,
   "id": "25d57efb-d6fa-4f37-9b6e-40213f10ae27",
   "metadata": {},
   "outputs": [],
   "source": [
    "from openai import OpenAI\n",
    "from tqdm import tqdm\n",
    "import json\n",
    "# client = OpenAI(api_key = )"
   ]
  },
  {
   "cell_type": "code",
   "execution_count": 6,
   "id": "0e98f01e-bea8-42f4-b594-3e0372f7abbc",
   "metadata": {},
   "outputs": [],
   "source": [
    "with open('testset.jsonl', 'r') as file:\n",
    "    json_line = file.readlines()\n",
    "\n",
    "gt_list = []\n",
    "property_list = []\n",
    "for i in json_line:\n",
    "    item = json.loads(i)\n",
    "    gt_list.append(item['SMILES'])\n",
    "    item.pop('SMILES')\n",
    "    property_list.append(item)"
   ]
  },
  {
   "cell_type": "code",
   "execution_count": 4,
   "id": "c6ae861b-8dcd-4da4-b85f-31dd850cc067",
   "metadata": {},
   "outputs": [
    {
     "ename": "NameError",
     "evalue": "name 'properties' is not defined",
     "output_type": "error",
     "traceback": [
      "\u001b[0;31m---------------------------------------------------------------------------\u001b[0m",
      "\u001b[0;31mNameError\u001b[0m                                 Traceback (most recent call last)",
      "Cell \u001b[0;32mIn[4], line 2\u001b[0m\n\u001b[1;32m      1\u001b[0m tmp \u001b[38;5;241m=\u001b[39m []\n\u001b[0;32m----> 2\u001b[0m \u001b[38;5;28;01mfor\u001b[39;00m key, value \u001b[38;5;129;01min\u001b[39;00m \u001b[43mproperties\u001b[49m\u001b[38;5;241m.\u001b[39mitems():\n\u001b[1;32m      3\u001b[0m     \u001b[38;5;28;01mif\u001b[39;00m \u001b[38;5;28misinstance\u001b[39m(value, \u001b[38;5;28mlist\u001b[39m):\n\u001b[1;32m      4\u001b[0m         value \u001b[38;5;241m=\u001b[39m \u001b[38;5;124m\"\u001b[39m\u001b[38;5;124m, \u001b[39m\u001b[38;5;124m\"\u001b[39m\u001b[38;5;241m.\u001b[39mjoin(value)  \u001b[38;5;66;03m# Convert list to string\u001b[39;00m\n",
      "\u001b[0;31mNameError\u001b[0m: name 'properties' is not defined"
     ]
    }
   ],
   "source": [
    "tmp = []\n",
    "for key, value in properties.items():\n",
    "    if isinstance(value, list):\n",
    "        value = \", \".join(value)  # Convert list to string\n",
    "    tmp.append(f\"{key}: {value}\")\n",
    "\n",
    "plain_property = \"\\n\".join(tmp)"
   ]
  },
  {
   "cell_type": "code",
   "execution_count": 10,
   "id": "9d18e606-e70f-4984-969e-09cf796817d8",
   "metadata": {},
   "outputs": [
    {
     "name": "stderr",
     "output_type": "stream",
     "text": [
      "100%|███████████████████████████████████████████| 50/50 [04:04<00:00,  4.89s/it]\n"
     ]
    }
   ],
   "source": [
    "model = \"gpt-3.5-turbo\"\n",
    "top10_list = []\n",
    "\n",
    "for gt, properties in tqdm(zip(gt_list, property_list), total=len(gt_list)):\n",
    "\n",
    "    tmp = []\n",
    "    for key, value in properties.items():\n",
    "        if isinstance(value, list):\n",
    "            value = \", \".join(value)  # Convert list to string\n",
    "        tmp.append(f\"{key}: {value}\")\n",
    "    \n",
    "    plain_property = \"\\n\".join(tmp)\n",
    "\n",
    "    \n",
    "    with open('simple_prompt.txt', 'r') as f:\n",
    "        prompt = f.read()\n",
    "    prompt = prompt.replace('{PROPERTIES}', plain_property)\n",
    "\n",
    "    completion = client.chat.completions.create(\n",
    "          model=model,\n",
    "          temperature=0,\n",
    "          messages=[{\"role\": \"user\", \"content\": prompt}])\n",
    "    if gt in completion.choices[0].message.content:\n",
    "        top10_list.append(1)\n",
    "    else:\n",
    "        top10_list.append(0)"
   ]
  },
  {
   "cell_type": "code",
   "execution_count": 12,
   "id": "c378c962-c76f-489c-a4c3-b8139f129c75",
   "metadata": {},
   "outputs": [
    {
     "name": "stdout",
     "output_type": "stream",
     "text": [
      "Model:gpt-3.5-turbo  Accuracy:0.1400\n"
     ]
    }
   ],
   "source": [
    "print(\"Model:%s  Accuracy:%.4f\" %(model, sum(top10_list)/50))"
   ]
  },
  {
   "cell_type": "code",
   "execution_count": 13,
   "id": "824620e6-5208-413b-b940-27281e62f840",
   "metadata": {},
   "outputs": [
    {
     "name": "stderr",
     "output_type": "stream",
     "text": [
      "100%|███████████████████████████████████████████| 50/50 [24:03<00:00, 28.87s/it]\n"
     ]
    }
   ],
   "source": [
    "model = \"gpt-4-turbo\"\n",
    "top10_list = []\n",
    "\n",
    "for gt, properties in tqdm(zip(gt_list, property_list), total=len(gt_list)):\n",
    "\n",
    "    tmp = []\n",
    "    for key, value in properties.items():\n",
    "        if isinstance(value, list):\n",
    "            value = \", \".join(value)  # Convert list to string\n",
    "        tmp.append(f\"{key}: {value}\")\n",
    "    \n",
    "    plain_property = \"\\n\".join(tmp)\n",
    "\n",
    "    \n",
    "    with open('simple_prompt.txt', 'r') as f:\n",
    "        prompt = f.read()\n",
    "    prompt = prompt.replace('{PROPERTIES}', plain_property)\n",
    "\n",
    "    completion = client.chat.completions.create(\n",
    "          model=model,\n",
    "          temperature=0,\n",
    "          messages=[{\"role\": \"user\", \"content\": prompt}])\n",
    "    if gt in completion.choices[0].message.content:\n",
    "        top10_list.append(1)\n",
    "    else:\n",
    "        top10_list.append(0)"
   ]
  },
  {
   "cell_type": "code",
   "execution_count": 14,
   "id": "68af4064-0c01-4632-94f7-cfd6837a6c03",
   "metadata": {},
   "outputs": [
    {
     "name": "stdout",
     "output_type": "stream",
     "text": [
      "Model:gpt-4-turbo  Accuracy:0.2400\n"
     ]
    }
   ],
   "source": [
    "print(\"Model:%s  Accuracy:%.4f\" %(model, sum(top10_list)/50))"
   ]
  },
  {
   "cell_type": "code",
   "execution_count": 18,
   "id": "7d74ea61-d830-4031-b536-a034dd417547",
   "metadata": {},
   "outputs": [
    {
     "name": "stderr",
     "output_type": "stream",
     "text": [
      "100%|██████████████████████████████████████████████████████████████████████| 50/50 [17:49<00:00, 21.39s/it]\n"
     ]
    }
   ],
   "source": [
    "import openai\n",
    "openai.api_key = \"EMPTY\"\n",
    "openai.base_url = \"http://localhost:8000/v1/\"\n",
    "\n",
    "model = \"vicuna-7b-v1.5-16k\"\n",
    "\n",
    "top10_list = []\n",
    "\n",
    "for gt, properties in tqdm(zip(gt_list, property_list), total=len(gt_list)):\n",
    "\n",
    "    tmp = []\n",
    "    for key, value in properties.items():\n",
    "        if isinstance(value, list):\n",
    "            value = \", \".join(value)  # Convert list to string\n",
    "        tmp.append(f\"{key}: {value}\")\n",
    "    \n",
    "    plain_property = \"\\n\".join(tmp)\n",
    "\n",
    "    \n",
    "    with open('simple_prompt.txt', 'r') as f:\n",
    "        prompt = f.read()\n",
    "    prompt = prompt.replace('{PROPERTIES}', plain_property)\n",
    "\n",
    "    completion = openai.chat.completions.create(\n",
    "          model=model,\n",
    "          max_tokens=1000,\n",
    "          temperature=0,\n",
    "          messages=[{\"role\": \"user\", \"content\": prompt}])\n",
    "    if gt in completion.choices[0].message.content:\n",
    "        top10_list.append(1)\n",
    "    else:\n",
    "        top10_list.append(0)"
   ]
  },
  {
   "cell_type": "code",
   "execution_count": 19,
   "id": "7f6c55bb-c4c3-4138-b2ff-7cb3cb1bfc79",
   "metadata": {},
   "outputs": [
    {
     "name": "stdout",
     "output_type": "stream",
     "text": [
      "Model:vicuna-7b-v1.5-16k  Accuracy:0.0200\n"
     ]
    }
   ],
   "source": [
    "print(\"Model:%s  Accuracy:%.4f\" %(model, sum(top10_list)/50))"
   ]
  },
  {
   "cell_type": "code",
   "execution_count": 20,
   "id": "54195b6c-40f6-4e25-bf69-0315919a1470",
   "metadata": {},
   "outputs": [
    {
     "name": "stderr",
     "output_type": "stream",
     "text": [
      "100%|███████████████████████████████████████████| 50/50 [30:37<00:00, 36.74s/it]\n"
     ]
    }
   ],
   "source": [
    "import openai\n",
    "openai.api_key = \"EMPTY\"\n",
    "openai.base_url = \"http://localhost:8001/v1/\"\n",
    "\n",
    "model = \"vicuna-13b-v1.5-16k\"\n",
    "\n",
    "top10_list = []\n",
    "\n",
    "for gt, properties in tqdm(zip(gt_list, property_list), total=len(gt_list)):\n",
    "\n",
    "    tmp = []\n",
    "    for key, value in properties.items():\n",
    "        if isinstance(value, list):\n",
    "            value = \", \".join(value)  # Convert list to string\n",
    "        tmp.append(f\"{key}: {value}\")\n",
    "    \n",
    "    plain_property = \"\\n\".join(tmp)\n",
    "\n",
    "    \n",
    "    with open('simple_prompt.txt', 'r') as f:\n",
    "        prompt = f.read()\n",
    "    prompt = prompt.replace('{PROPERTIES}', plain_property)\n",
    "\n",
    "    completion = openai.chat.completions.create(\n",
    "          model=model,\n",
    "          max_tokens=1000,\n",
    "          temperature=0,\n",
    "          messages=[{\"role\": \"user\", \"content\": prompt}])\n",
    "    if gt in completion.choices[0].message.content:\n",
    "        top10_list.append(1)\n",
    "    else:\n",
    "        top10_list.append(0)"
   ]
  },
  {
   "cell_type": "code",
   "execution_count": 21,
   "id": "e6786898-4c2d-48ee-9b31-b9ded1f0e75d",
   "metadata": {},
   "outputs": [
    {
     "name": "stdout",
     "output_type": "stream",
     "text": [
      "Model:vicuna-13b-v1.5-16k  Accuracy:0.0600\n"
     ]
    }
   ],
   "source": [
    "print(\"Model:%s  Accuracy:%.4f\" %(model, sum(top10_list)/50))"
   ]
  },
  {
   "cell_type": "code",
   "execution_count": 3,
   "id": "4f8c5715-49d0-4f64-80dc-ffae93119869",
   "metadata": {},
   "outputs": [
    {
     "name": "stderr",
     "output_type": "stream",
     "text": [
      "100%|███████████████████████████████████████████| 50/50 [12:49<00:00, 15.38s/it]"
     ]
    },
    {
     "name": "stdout",
     "output_type": "stream",
     "text": [
      "Model:ChemLLM-7B-Chat  Accuracy:0.0200\n"
     ]
    },
    {
     "name": "stderr",
     "output_type": "stream",
     "text": [
      "\n"
     ]
    }
   ],
   "source": [
    "import openai\n",
    "openai.api_key = \"EMPTY\"\n",
    "openai.base_url = \"http://localhost:8000/v1/\"\n",
    "\n",
    "model = \"ChemLLM-7B-Chat\"\n",
    "\n",
    "top10_list = []\n",
    "\n",
    "for gt, properties in tqdm(zip(gt_list, property_list), total=len(gt_list)):\n",
    "\n",
    "    tmp = []\n",
    "    for key, value in properties.items():\n",
    "        if isinstance(value, list):\n",
    "            value = \", \".join(value)  # Convert list to string\n",
    "        tmp.append(f\"{key}: {value}\")\n",
    "    \n",
    "    plain_property = \"\\n\".join(tmp)\n",
    "\n",
    "    \n",
    "    with open('simple_prompt.txt', 'r') as f:\n",
    "        prompt = f.read()\n",
    "    prompt = prompt.replace('{PROPERTIES}', plain_property)\n",
    "\n",
    "    completion = openai.chat.completions.create(\n",
    "          model=model,\n",
    "          max_tokens=1000,\n",
    "          temperature=0,\n",
    "          messages=[{\"role\": \"user\", \"content\": prompt}])\n",
    "    if gt in completion.choices[0].message.content:\n",
    "        top10_list.append(1)\n",
    "    else:\n",
    "        top10_list.append(0)\n",
    "        \n",
    "print(\"Model:%s  Accuracy:%.4f\" %(model, sum(top10_list)/50))"
   ]
  },
  {
   "cell_type": "code",
   "execution_count": 8,
   "id": "49db667d-1115-4242-b24f-e86a629a79cb",
   "metadata": {},
   "outputs": [
    {
     "name": "stderr",
     "output_type": "stream",
     "text": [
      "100%|███████████████████████████████████████████| 50/50 [17:52<00:00, 21.45s/it]"
     ]
    },
    {
     "name": "stdout",
     "output_type": "stream",
     "text": [
      "Model:ChemDFM-13B-v1.0  Accuracy:0.1400\n"
     ]
    },
    {
     "name": "stderr",
     "output_type": "stream",
     "text": [
      "\n"
     ]
    }
   ],
   "source": [
    "import openai\n",
    "openai.api_key = \"EMPTY\"\n",
    "openai.base_url = \"http://localhost:8002/v1/\"\n",
    "\n",
    "model = \"ChemDFM-13B-v1.0\"\n",
    "\n",
    "top10_list = []\n",
    "\n",
    "for gt, properties in tqdm(zip(gt_list, property_list), total=len(gt_list)):\n",
    "\n",
    "    tmp = []\n",
    "    for key, value in properties.items():\n",
    "        if isinstance(value, list):\n",
    "            value = \", \".join(value)  # Convert list to string\n",
    "        tmp.append(f\"{key}: {value}\")\n",
    "    \n",
    "    plain_property = \"\\n\".join(tmp)\n",
    "\n",
    "    \n",
    "    with open('simple_prompt.txt', 'r') as f:\n",
    "        prompt = f.read()\n",
    "    prompt = prompt.replace('{PROPERTIES}', plain_property)\n",
    "\n",
    "    completion = openai.chat.completions.create(\n",
    "          model=model,\n",
    "          max_tokens=1000,\n",
    "          temperature=0,\n",
    "          messages=[{\"role\": \"user\", \"content\": prompt}])\n",
    "    if gt in completion.choices[0].message.content:\n",
    "        top10_list.append(1)\n",
    "    else:\n",
    "        top10_list.append(0)\n",
    "        \n",
    "print(\"Model:%s  Accuracy:%.4f\" %(model, sum(top10_list)/50))"
   ]
  },
  {
   "cell_type": "code",
   "execution_count": null,
   "id": "2d46df98-7acf-495d-b8f1-b0561de11396",
   "metadata": {},
   "outputs": [],
   "source": []
  }
 ],
 "metadata": {
  "kernelspec": {
   "display_name": "Python 3 (ipykernel)",
   "language": "python",
   "name": "python3"
  },
  "language_info": {
   "codemirror_mode": {
    "name": "ipython",
    "version": 3
   },
   "file_extension": ".py",
   "mimetype": "text/x-python",
   "name": "python",
   "nbconvert_exporter": "python",
   "pygments_lexer": "ipython3",
   "version": "3.9.19"
  }
 },
 "nbformat": 4,
 "nbformat_minor": 5
}
